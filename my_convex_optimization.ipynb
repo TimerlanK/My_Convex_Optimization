{
 "cells": [
  {
   "cell_type": "code",
   "execution_count": 164,
   "metadata": {},
   "outputs": [],
   "source": [
    "import matplotlib\n",
    "import matplotlib.pyplot as plt\n",
    "import numpy as np"
   ]
  },
  {
   "cell_type": "markdown",
   "metadata": {},
   "source": [
    "# PLOT FUNCTION"
   ]
  },
  {
   "cell_type": "code",
   "execution_count": 165,
   "metadata": {},
   "outputs": [],
   "source": [
    "#function\n",
    "x = np.linspace(-10,10,100)\n",
    "y = (x - 1)**4 + x**2"
   ]
  },
  {
   "cell_type": "code",
   "execution_count": 166,
   "metadata": {},
   "outputs": [
    {
     "data": {
      "image/png": "[encoded data removed]",
      "text/plain": [
       "<Figure size 432x288 with 1 Axes>"
      ]
     },
     "metadata": {
      "needs_background": "light"
     },
     "output_type": "display_data"
    }
   ],
   "source": [
    "#plot the function\n",
    "fig = plt.figure()\n",
    "ax = fig.add_subplot(1, 1, 1)\n",
    "ax.spines['left'].set_position('center')\n",
    "ax.spines['bottom'].set_position('zero')\n",
    "ax.spines['right'].set_color('none')\n",
    "ax.spines['top'].set_color('none')\n",
    "ax.xaxis.set_ticks_position('bottom')\n",
    "ax.yaxis.set_ticks_position('left')\n",
    "plt.grid()\n",
    "plt.plot(x,y)\n",
    "plt.show()"
   ]
  },
  {
   "cell_type": "markdown",
   "metadata": {},
   "source": [
    "# BISECTION METHOD"
   ]
  },
  {
   "cell_type": "code",
   "execution_count": 167,
   "metadata": {},
   "outputs": [],
   "source": [
    "#bisection method\n",
    "def find_root_bisection(y,a,b):\n",
    "    range = 0.00001\n",
    "    a = 0\n",
    "    b = 4\n",
    "    while (abs(a-b)>range):\n",
    "        m = (a+b)/2\n",
    "        y_a = y(a)\n",
    "        y_b = y(b)\n",
    "        y_m = y(m)\n",
    "        if np.sign(y_m)!= np.sign(y_a):\n",
    "            b = m\n",
    "        else :a = m\n",
    "    return m,y(m)"
   ]
  },
  {
   "cell_type": "code",
   "execution_count": 168,
   "metadata": {},
   "outputs": [
    {
     "data": {
      "text/plain": [
       "(1.7320480346679688, -9.605602826923132e-06)"
      ]
     },
     "execution_count": 168,
     "metadata": {},
     "output_type": "execute_result"
    }
   ],
   "source": [
    "#test bisection method\n",
    "y = lambda x:x**2 -3 \n",
    "find_root_bisection(y,0,4)"
   ]
  },
  {
   "cell_type": "markdown",
   "metadata": {},
   "source": [
    "# Newton-Raphson method"
   ]
  },
  {
   "cell_type": "code",
   "execution_count": 169,
   "metadata": {},
   "outputs": [],
   "source": [
    "# NR method\n",
    "def newton_raphson(f_x,der_f_x,x_0):\n",
    "    h = f_x(x_0)/der_f_x(x_0)\n",
    "    x = x_0\n",
    "    while abs(h) >= 0.001:\n",
    "        h = f_x(x)/der_f_x(x)\n",
    "        x = x - h\n",
    "#         print(h)\n",
    "    return x,f_x(x)\n",
    "    "
   ]
  },
  {
   "cell_type": "code",
   "execution_count": 170,
   "metadata": {},
   "outputs": [
    {
     "data": {
      "text/plain": [
       "(1.7320508100147276, 8.47267411785424e-09)"
      ]
     },
     "execution_count": 170,
     "metadata": {},
     "output_type": "execute_result"
    }
   ],
   "source": [
    "#test NR method\n",
    "y = lambda x:x**2 -3\n",
    "der_y = lambda x:2*x\n",
    "x_0 = 1\n",
    "newton_raphson(y,der_y,x_0)"
   ]
  },
  {
   "cell_type": "markdown",
   "metadata": {},
   "source": [
    "# USE FOR DERIVATIVE OF FUNCTION"
   ]
  },
  {
   "cell_type": "code",
   "execution_count": 171,
   "metadata": {},
   "outputs": [
    {
     "data": {
      "text/plain": [
       "(0.41024017333984375, -3.280958699214409e-05)"
      ]
     },
     "execution_count": 171,
     "metadata": {},
     "output_type": "execute_result"
    }
   ],
   "source": [
    "der_f_x = lambda x:4*(x-1)**3 + 2*x\n",
    "find_root_bisection(der_f_x,-10,10)"
   ]
  },
  {
   "cell_type": "code",
   "execution_count": 172,
   "metadata": {},
   "outputs": [
    {
     "name": "stdout",
     "output_type": "stream",
     "text": [
      "x_min: 0.41, f(x_min): 0.29\n"
     ]
    },
    {
     "data": {
      "text/plain": [
       "<matplotlib.legend.Legend at 0x7fe95309e310>"
      ]
     },
     "execution_count": 172,
     "metadata": {},
     "output_type": "execute_result"
    },
    {
     "data": {
      "image/png": "[encoded data removed]",
      "text/plain": [
       "<Figure size 432x288 with 1 Axes>"
      ]
     },
     "metadata": {
      "needs_background": "light"
     },
     "output_type": "display_data"
    }
   ],
   "source": [
    "f = lambda x : (x - 1)**4 + x**2\n",
    "\n",
    "import matplotlib.pyplot as plt\n",
    "import numpy as np\n",
    "from scipy.optimize import minimize_scalar\n",
    "\n",
    "res = minimize_scalar(f, method='brent')\n",
    "print('x_min: %.02f, f(x_min): %.02f' % (res.x, res.fun))\n",
    "\n",
    "# plot curve\n",
    "x = np.linspace(res.x - 1, res.x + 1, 100)\n",
    "y = [f(val) for val in x]\n",
    "plt.plot(x, y, color='blue', label='f')\n",
    "\n",
    "# plot optima\n",
    "plt.scatter(res.x, res.fun, color='red', marker='x', label='Minimum')\n",
    "\n",
    "plt.grid()\n",
    "plt.legend(loc = 1)"
   ]
  },
  {
   "cell_type": "markdown",
   "metadata": {},
   "source": [
    "# GRADIENT DESCENT METHOD"
   ]
  },
  {
   "cell_type": "markdown",
   "metadata": {},
   "source": [
    "If learning rate is too big, gradient descent can overstep the minimum value\n",
    "\n",
    "If learning rate is too small, gradient descent can be too slow"
   ]
  },
  {
   "cell_type": "code",
   "execution_count": 173,
   "metadata": {},
   "outputs": [],
   "source": [
    "# gradient descent\n",
    "def gradient_descent(f,f_prime,start,learning_rate):\n",
    "    x_0 = start\n",
    "    x_1 = x_0 - learning_rate*f_prime(x_0)\n",
    "    precision = 0.0001\n",
    "    iter = 0\n",
    "    while abs(x_1 - x_0) >= precision:\n",
    "        x_0 = x_1\n",
    "        x_1 = x_0 - learning_rate*f_prime(x_0)\n",
    "    return x_1"
   ]
  },
  {
   "cell_type": "code",
   "execution_count": 174,
   "metadata": {},
   "outputs": [
    {
     "name": "stdout",
     "output_type": "stream",
     "text": [
      "xmin: 0.41, f(x_min): 0.29\n"
     ]
    }
   ],
   "source": [
    "f = lambda x : (x - 1) ** 4 + x ** 2\n",
    "f_prime = lambda x : 4*((x-1)**3) + 2*x\n",
    "start = -1\n",
    "x_min = gradient_descent(f, f_prime, start, 0.01)\n",
    "f_min = f(x_min)\n",
    "\n",
    "print(\"xmin: %0.2f, f(x_min): %0.2f\" % (x_min, f_min))"
   ]
  },
  {
   "cell_type": "markdown",
   "metadata": {},
   "source": [
    "# SIMPLEX ALGORITHM"
   ]
  },
  {
   "cell_type": "code",
   "execution_count": 175,
   "metadata": {},
   "outputs": [],
   "source": [
    "#Simplex method in Optimization\n",
    "def solve_linear_problem(A, b, c):\n",
    "    from scipy.optimize import linprog\n",
    "    x0_bounds = (0, None)\n",
    "    x1_bounds = (0, None)\n",
    "    res = linprog(c, A_ub=A, b_ub=b,  bounds=(x0_bounds, x1_bounds), method='simplex', options={\"disp\": True})\n",
    "    return res.fun,res.x"
   ]
  },
  {
   "cell_type": "code",
   "execution_count": 176,
   "metadata": {},
   "outputs": [
    {
     "name": "stdout",
     "output_type": "stream",
     "text": [
      "Optimization terminated successfully.\n",
      "         Current function value: -11.000000  \n",
      "         Iterations: 3\n",
      "The optimal value is:  -11.0  and is reached for x =  [3. 4.]\n"
     ]
    }
   ],
   "source": [
    "import numpy as np\n",
    "# maximize   z = x + 2y\n",
    "# subject to\n",
    "#       • 2x + y ≤ 10\n",
    "#       • -4x + 5y ≤ 8\n",
    "#       • x - 2y ≤ 3\n",
    "#       • x, y ≥ 0\n",
    "c = np.array([-1,-2])\n",
    "A = np.array([[2,1],[-4,5],[1,-2]])\n",
    "b = np.array([10,8,3])\n",
    "\n",
    "optimal_value, optimal_arg = solve_linear_problem(A, b, c)\n",
    "\n",
    "print(\"The optimal value is: \", optimal_value, \" and is reached for x = \", optimal_arg)"
   ]
  },
  {
   "cell_type": "markdown",
   "metadata": {},
   "source": [
    "Is the solution you found located on the edge of the polytope? Why?\n",
    "\n",
    "Yes.\n",
    "The Simplex method is a search procedure that sifts through the set of basic feasible solutions, one at a time, until the optimal basic feasible solution (whenever it exists) is identified.\n",
    "It will begin the search at (any) one of the corner points and then move toward the optimal corner point along the edges of the feasible region."
   ]
  }
 ],
 "metadata": {
  "kernelspec": {
   "display_name": "Python 3",
   "language": "python",
   "name": "python3"
  },
  "language_info": {
   "codemirror_mode": {
    "name": "ipython",
    "version": 3
   },
   "file_extension": ".py",
   "mimetype": "text/x-python",
   "name": "python",
   "nbconvert_exporter": "python",
   "pygments_lexer": "ipython3",
   "version": "3.8.3"
  }
 },
 "nbformat": 4,
 "nbformat_minor": 4
}
